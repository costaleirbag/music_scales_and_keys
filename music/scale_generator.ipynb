{
 "cells": [
  {
   "cell_type": "markdown",
   "metadata": {},
   "source": [
    "import numpy as np\n",
    "\n",
    "from music_constants import base_notes, base_intervals, catalog\n",
    "\n",
    "class Scale:\n",
    "\n",
    "    def __init__(self, tonic, intervals):\n",
    "        self.base_notes = base_notes\n",
    "        self.base_intervals = base_intervals\n",
    "        self.catalog = catalog\n",
    "\n",
    "        self.tonic = tonic[:1]\n",
    "        self.accident = tonic[1:]\n",
    "        self.notes = self.base_notes[self.base_notes.index(self.tonic):] + self.base_notes[:self.base_notes.index(self.tonic)]\n",
    "        #print(self.notes)\n",
    "        \n",
    "        if isinstance(intervals, str):\n",
    "            self.intervals = self.catalog[intervals.lower()]\n",
    "        else:\n",
    "            self.intervals = intervals\n",
    "\n",
    "    def calculate_distances(self):\n",
    "        semitones = np.array(self.semitones_from_tonic())\n",
    "        #print(\"semitones:\", semitones)\n",
    "        distances = semitones[1:] - semitones[:-1]\n",
    "        return distances\n",
    "\n",
    "    def calculate_accidents_from_difference(self, note, difference):\n",
    "        #print(note, difference)\n",
    "        if difference > 0:\n",
    "            return '#'*abs(difference)\n",
    "        elif difference < 0:\n",
    "            return 'b'*abs(difference)\n",
    "        else:\n",
    "            if \"#\" in note:\n",
    "                return \"#\"\n",
    "            if \"b\" in note:\n",
    "                return \"b\"\n",
    "            else:\n",
    "                return ''\n",
    "\n",
    "    def debug_mixed_accidents(self):\n",
    "        self.notes = [element.replace('#b', '').replace('b#', '') for element in self.notes]\n",
    "\n",
    "    def generate_scale(self):\n",
    "        distances = self.calculate_distances()\n",
    "        #print(\"distances:\", distances)\n",
    "\n",
    "        for i in range(len(self.notes) - 1):\n",
    "            \n",
    "            if np.isin(self.notes[i], [\"E\", \"B\"]):\n",
    "                difference = distances[i] - 1\n",
    "            else:\n",
    "                difference = distances[i] - 2\n",
    "\n",
    "            self.notes[i+1] += self.calculate_accidents_from_difference(self.notes[i], difference)\n",
    "        \n",
    "        self.notes = [note + self.accident for note in self.notes]\n",
    "        self.debug_mixed_accidents()\n",
    "\n",
    "\n",
    "    def semitones_from_tonic(self):\n",
    "        semitones = []\n",
    "        for interval in self.intervals:\n",
    "            semitones.append(self.calculate_semitones(interval))\n",
    "        return semitones\n",
    "    \n",
    "    def calculate_semitones(self, interval):\n",
    "        \n",
    "        interval_root = self.base_intervals[interval[-1]]\n",
    "        accidents = interval[:-1]\n",
    "\n",
    "        # Sum 1 for each # and substract 1 for each b in accidents\n",
    "        for accident in accidents:\n",
    "            if accident == '#':\n",
    "                interval_root += 1\n",
    "            elif accident == 'b':\n",
    "                interval_root -= 1\n",
    "\n",
    "        return interval_root"
   ]
  },
  {
   "cell_type": "markdown",
   "metadata": {},
   "source": [
    "scale = Scale(\"Fb\", \"lydian b7\")\n",
    "scale.generate_scale()\n",
    "print(scale.notes)"
   ]
  },
  {
   "cell_type": "code",
   "execution_count": 2,
   "metadata": {},
   "outputs": [
    {
     "data": {
      "text/plain": [
       "['Cm7', 'Db7M(#5)', 'Eb7', 'F7', 'Gm7(b5)', 'Am7(b5)', 'Bbm7M']"
      ]
     },
     "execution_count": 2,
     "metadata": {},
     "output_type": "execute_result"
    }
   ],
   "source": [
    "from scale import Scale\n",
    "from key import Key\n",
    "\n",
    "scale = Scale(\"C\", \"1 b2 b3 4 5 6 b7\".split(\" \"))\n",
    "key = Key(scale)\n",
    "\n",
    "key.chords"
   ]
  },
  {
   "cell_type": "code",
   "execution_count": null,
   "metadata": {},
   "outputs": [],
   "source": []
  }
 ],
 "metadata": {
  "kernelspec": {
   "display_name": "sandbox-ezJulrnj",
   "language": "python",
   "name": "python3"
  },
  "language_info": {
   "codemirror_mode": {
    "name": "ipython",
    "version": 3
   },
   "file_extension": ".py",
   "mimetype": "text/x-python",
   "name": "python",
   "nbconvert_exporter": "python",
   "pygments_lexer": "ipython3",
   "version": "3.11.1"
  }
 },
 "nbformat": 4,
 "nbformat_minor": 2
}
