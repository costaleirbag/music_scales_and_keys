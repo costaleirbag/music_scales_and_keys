{
 "cells": [
  {
   "cell_type": "code",
   "execution_count": 1,
   "metadata": {},
   "outputs": [],
   "source": [
    "from app.scale import Scale\n",
    "from app.scale import generate_chord_notes_from_chord_name, generate_scale_from_chord_name\n",
    "from app.utils import utils"
   ]
  },
  {
   "cell_type": "code",
   "execution_count": 2,
   "metadata": {},
   "outputs": [
    {
     "data": {
      "text/plain": [
       "'C major'"
      ]
     },
     "execution_count": 2,
     "metadata": {},
     "output_type": "execute_result"
    }
   ],
   "source": [
    "scale = Scale('C D E F G A B'.split(' '))\n",
    "scale.name"
   ]
  },
  {
   "cell_type": "code",
   "execution_count": 3,
   "metadata": {},
   "outputs": [
    {
     "name": "stdout",
     "output_type": "stream",
     "text": [
      "Scale:  ['E', 'F', 'G#', 'A', 'B', 'C', 'D']\n",
      "Intervals:  ['1', 'b2', '3', '4', '5', 'b6', 'b7']\n",
      "Scale name:  E phrygian dominant\n",
      "\n",
      "A as root\n",
      "Scale:  ['A', 'B', 'C', 'D', 'E', 'F', 'G#']\n",
      "Intervals:  ['1', '2', 'b3', '4', '5', 'b6', '7']\n",
      "Scale name:  A harmonic minor\n"
     ]
    }
   ],
   "source": [
    "dominant_scale = scale.get_dominant_scale('E')\n",
    "\n",
    "print(\"Scale: \", dominant_scale.notes)\n",
    "print(\"Intervals: \", dominant_scale.intervals)\n",
    "print(\"Scale name: \", dominant_scale.name)\n",
    "\n",
    "new_root = 'A'\n",
    "dominant_scale = dominant_scale.reorder(new_root)\n",
    "\n",
    "print(f\"\\n{new_root} as root\")\n",
    "print(\"Scale: \", dominant_scale.notes)\n",
    "print(\"Intervals: \", dominant_scale.intervals)\n",
    "print(\"Scale name: \", dominant_scale.name)"
   ]
  },
  {
   "cell_type": "code",
   "execution_count": 4,
   "metadata": {},
   "outputs": [
    {
     "data": {
      "text/plain": [
       "['Am7M', 'Bm7(b5)', 'C7M(#5)', 'Dm7', 'E7', 'F7M', 'G#dim']"
      ]
     },
     "execution_count": 4,
     "metadata": {},
     "output_type": "execute_result"
    }
   ],
   "source": [
    "from app.key import Key\n",
    "\n",
    "dominant_key = Key(dominant_scale)\n",
    "dominant_key.chords"
   ]
  },
  {
   "cell_type": "code",
   "execution_count": 5,
   "metadata": {},
   "outputs": [
    {
     "data": {
      "text/plain": [
       "'E7'"
      ]
     },
     "execution_count": 5,
     "metadata": {},
     "output_type": "execute_result"
    }
   ],
   "source": [
    "'E7'"
   ]
  }
 ],
 "metadata": {
  "kernelspec": {
   "display_name": "music-_XwLhQ35-py3.12",
   "language": "python",
   "name": "python3"
  },
  "language_info": {
   "codemirror_mode": {
    "name": "ipython",
    "version": 3
   },
   "file_extension": ".py",
   "mimetype": "text/x-python",
   "name": "python",
   "nbconvert_exporter": "python",
   "pygments_lexer": "ipython3",
   "version": "3.12.4"
  }
 },
 "nbformat": 4,
 "nbformat_minor": 2
}
