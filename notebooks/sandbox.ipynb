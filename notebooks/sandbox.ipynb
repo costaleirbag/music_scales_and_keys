{
 "cells": [
  {
   "cell_type": "code",
   "execution_count": 1,
   "metadata": {},
   "outputs": [],
   "source": [
    "from app.scale import Scale\n",
    "from app.scale import generate_chord_notes_from_chord_name, generate_scale_from_chord_name\n",
    "from app.utils import utils"
   ]
  },
  {
   "cell_type": "code",
   "execution_count": 2,
   "metadata": {},
   "outputs": [
    {
     "data": {
      "text/plain": [
       "'C major'"
      ]
     },
     "execution_count": 2,
     "metadata": {},
     "output_type": "execute_result"
    }
   ],
   "source": [
    "scale = Scale('C D E F G A B'.split(' '))\n",
    "scale.name"
   ]
  },
  {
   "cell_type": "code",
   "execution_count": 3,
   "metadata": {},
   "outputs": [
    {
     "name": "stdout",
     "output_type": "stream",
     "text": [
      "Scale:  ['E', 'F', 'G#', 'A', 'B', 'C', 'D']\n",
      "Intervals:  ['1', 'b2', '3', '4', '5', 'b6', 'b7']\n",
      "Scale name:  E phrygian dominant\n",
      "\n",
      "A as root\n",
      "Scale:  ['A', 'B', 'C', 'D', 'E', 'F', 'G#']\n",
      "Intervals:  ['1', '2', 'b3', '4', '5', 'b6', '7']\n",
      "Scale name:  A harmonic minor\n"
     ]
    }
   ],
   "source": [
    "dominant_scale = scale.get_dominant_scale('E')\n",
    "\n",
    "print(\"Scale: \", dominant_scale.notes)\n",
    "print(\"Intervals: \", dominant_scale.intervals)\n",
    "print(\"Scale name: \", dominant_scale.name)\n",
    "\n",
    "new_root = 'A'\n",
    "dominant_scale = dominant_scale.reorder(new_root)\n",
    "\n",
    "print(f\"\\n{new_root} as root\")\n",
    "print(\"Scale: \", dominant_scale.notes)\n",
    "print(\"Intervals: \", dominant_scale.intervals)\n",
    "print(\"Scale name: \", dominant_scale.name)"
   ]
  },
  {
   "cell_type": "code",
   "execution_count": 4,
   "metadata": {},
   "outputs": [
    {
     "data": {
      "text/plain": [
       "['Am7M', 'Bm7(b5)', 'C7M(#5)', 'Dm7', 'E7', 'F7M', 'G#dim']"
      ]
     },
     "execution_count": 4,
     "metadata": {},
     "output_type": "execute_result"
    }
   ],
   "source": [
    "from app.key import Key\n",
    "\n",
    "dominant_key = Key(dominant_scale)\n",
    "dominant_key.chords"
   ]
  },
  {
   "cell_type": "code",
   "execution_count": 1,
   "metadata": {},
   "outputs": [
    {
     "data": {
      "image/png": "[encoded data removed]",
      "text/plain": [
       "<Figure size 1000x400 with 1 Axes>"
      ]
     },
     "metadata": {},
     "output_type": "display_data"
    }
   ],
   "source": [
    "import matplotlib.pyplot as plt\n",
    "import numpy as np\n",
    "\n",
    "class Guitar:\n",
    "    def __init__(self, tuning=None):\n",
    "        if tuning is None:\n",
    "            tuning = ['E', 'A', 'D', 'G', 'B', 'E']\n",
    "        self.tuning = tuning\n",
    "        self.notes = ['C', 'C#', 'D', 'D#', 'E', 'F', 'F#', 'G', 'G#', 'A', 'A#', 'B']\n",
    "    \n",
    "    def get_note_positions(self, scale_notes):\n",
    "        positions = {}\n",
    "        for string_idx, open_note in enumerate(self.tuning):\n",
    "            string_positions = []\n",
    "            open_note_idx = self.notes.index(open_note)\n",
    "            for fret in range(13):  # Usually, a 12-fret layout is enough\n",
    "                note = self.notes[(open_note_idx + fret) % 12]\n",
    "                if note in scale_notes:\n",
    "                    string_positions.append(fret)\n",
    "            positions[string_idx + 1] = string_positions\n",
    "        return positions\n",
    "\n",
    "    def fingerboard(self, scale_notes):\n",
    "        note_positions = self.get_note_positions(scale_notes)\n",
    "        fig, ax = plt.subplots(figsize=(10, 4))\n",
    "\n",
    "        # Draw the guitar fingerboard\n",
    "        for string in range(6):\n",
    "            ax.plot([0, 12], [string + 1, string + 1], 'k-')  # Draw strings\n",
    "        for fret in range(13):\n",
    "            ax.plot([fret, fret], [1, 6], 'k--')  # Draw frets\n",
    "\n",
    "        # Plot the scale notes\n",
    "        for string, frets in note_positions.items():\n",
    "            for fret in frets:\n",
    "                ax.text(fret, string, 'o', ha='center', va='center', fontsize=15)\n",
    "\n",
    "        ax.set_xlim(-0.5, 12.5)\n",
    "        ax.set_ylim(0.5, 6.5)\n",
    "        ax.set_xticks(range(13))\n",
    "        ax.set_yticks(range(1, 7))\n",
    "        ax.set_yticklabels(['E', 'B', 'G', 'D', 'A', 'E'][::-1])\n",
    "        ax.set_xlabel('Frets')\n",
    "        ax.set_title('Guitar Fingerboard')\n",
    "        plt.gca().invert_yaxis()\n",
    "        plt.show()\n",
    "\n",
    "# Example usage\n",
    "guitar = Guitar()\n",
    "scale_notes = ['C', 'D', 'E', 'F', 'G', 'A', 'B']  # C Major Scale\n",
    "guitar.fingerboard(scale_notes)\n"
   ]
  },
  {
   "cell_type": "code",
   "execution_count": null,
   "metadata": {},
   "outputs": [],
   "source": []
  }
 ],
 "metadata": {
  "kernelspec": {
   "display_name": "music-_XwLhQ35-py3.12",
   "language": "python",
   "name": "python3"
  },
  "language_info": {
   "codemirror_mode": {
    "name": "ipython",
    "version": 3
   },
   "file_extension": ".py",
   "mimetype": "text/x-python",
   "name": "python",
   "nbconvert_exporter": "python",
   "pygments_lexer": "ipython3",
   "version": "3.12.4"
  }
 },
 "nbformat": 4,
 "nbformat_minor": 2
}
