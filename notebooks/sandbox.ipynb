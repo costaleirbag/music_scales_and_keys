{
 "cells": [
  {
   "cell_type": "code",
   "execution_count": 1,
   "metadata": {},
   "outputs": [
    {
     "ename": "ImportError",
     "evalue": "cannot import name 'Scale' from partially initialized module 'app.scale' (most likely due to a circular import) (/Users/costaleirbag/music_repo/src/app/scale.py)",
     "output_type": "error",
     "traceback": [
      "\u001b[0;31m---------------------------------------------------------------------------\u001b[0m",
      "\u001b[0;31mImportError\u001b[0m                               Traceback (most recent call last)",
      "Cell \u001b[0;32mIn[1], line 1\u001b[0m\n\u001b[0;32m----> 1\u001b[0m \u001b[38;5;28;01mfrom\u001b[39;00m \u001b[38;5;21;01mapp\u001b[39;00m\u001b[38;5;21;01m.\u001b[39;00m\u001b[38;5;21;01mscale\u001b[39;00m \u001b[38;5;28;01mimport\u001b[39;00m Scale\n\u001b[1;32m      2\u001b[0m \u001b[38;5;28;01mfrom\u001b[39;00m \u001b[38;5;21;01mapp\u001b[39;00m\u001b[38;5;21;01m.\u001b[39;00m\u001b[38;5;21;01mutils\u001b[39;00m \u001b[38;5;28;01mimport\u001b[39;00m utils\n",
      "File \u001b[0;32m~/music_repo/src/app/scale.py:6\u001b[0m\n\u001b[1;32m      4\u001b[0m \u001b[38;5;28;01mfrom\u001b[39;00m \u001b[38;5;21;01mapp\u001b[39;00m\u001b[38;5;21;01m.\u001b[39;00m\u001b[38;5;21;01mmusic_constants\u001b[39;00m \u001b[38;5;28;01mimport\u001b[39;00m catalog, base_intervals\n\u001b[1;32m      5\u001b[0m \u001b[38;5;28;01mfrom\u001b[39;00m \u001b[38;5;21;01mapp\u001b[39;00m\u001b[38;5;21;01m.\u001b[39;00m\u001b[38;5;21;01mmusic_helper\u001b[39;00m \u001b[38;5;28;01mimport\u001b[39;00m MusicHelper\n\u001b[0;32m----> 6\u001b[0m \u001b[38;5;28;01mfrom\u001b[39;00m \u001b[38;5;21;01mapp\u001b[39;00m\u001b[38;5;21;01m.\u001b[39;00m\u001b[38;5;21;01mutils\u001b[39;00m \u001b[38;5;28;01mimport\u001b[39;00m utils\n\u001b[1;32m      8\u001b[0m \u001b[38;5;28;01mclass\u001b[39;00m \u001b[38;5;21;01mScale\u001b[39;00m(BaseScale):\n\u001b[1;32m      9\u001b[0m \u001b[38;5;250m    \u001b[39m\u001b[38;5;124;03m\"\"\"Scale class created from the BaseScale class.\"\"\"\u001b[39;00m\n",
      "File \u001b[0;32m~/music_repo/src/app/utils/utils.py:6\u001b[0m\n\u001b[1;32m      4\u001b[0m \u001b[38;5;28;01mfrom\u001b[39;00m \u001b[38;5;21;01mapp\u001b[39;00m\u001b[38;5;21;01m.\u001b[39;00m\u001b[38;5;21;01mmusic_constants\u001b[39;00m \u001b[38;5;28;01mimport\u001b[39;00m catalog, base_intervals, base_notes\n\u001b[1;32m      5\u001b[0m \u001b[38;5;28;01mfrom\u001b[39;00m \u001b[38;5;21;01mapp\u001b[39;00m\u001b[38;5;21;01m.\u001b[39;00m\u001b[38;5;21;01mmusic_helper\u001b[39;00m \u001b[38;5;28;01mimport\u001b[39;00m MusicHelper\n\u001b[0;32m----> 6\u001b[0m \u001b[38;5;28;01mfrom\u001b[39;00m \u001b[38;5;21;01mapp\u001b[39;00m\u001b[38;5;21;01m.\u001b[39;00m\u001b[38;5;21;01mscale\u001b[39;00m \u001b[38;5;28;01mimport\u001b[39;00m Scale\n\u001b[1;32m      7\u001b[0m \u001b[38;5;28;01mfrom\u001b[39;00m \u001b[38;5;21;01mapp\u001b[39;00m\u001b[38;5;21;01m.\u001b[39;00m\u001b[38;5;21;01mkey\u001b[39;00m \u001b[38;5;28;01mimport\u001b[39;00m Key\n\u001b[1;32m      9\u001b[0m \u001b[38;5;28;01mdef\u001b[39;00m \u001b[38;5;21mreorder_notes\u001b[39m(notes: List[\u001b[38;5;28mstr\u001b[39m], tonic: \u001b[38;5;28mstr\u001b[39m) \u001b[38;5;241m-\u001b[39m\u001b[38;5;241m>\u001b[39m List[\u001b[38;5;28mstr\u001b[39m]:\n",
      "\u001b[0;31mImportError\u001b[0m: cannot import name 'Scale' from partially initialized module 'app.scale' (most likely due to a circular import) (/Users/costaleirbag/music_repo/src/app/scale.py)"
     ]
    }
   ],
   "source": [
    "from app.scale import Scale, generate_scale_from_chord_name\n",
    "from app.utils import utils"
   ]
  },
  {
   "cell_type": "code",
   "execution_count": null,
   "metadata": {},
   "outputs": [
    {
     "data": {
      "text/plain": [
       "'C major'"
      ]
     },
     "execution_count": 2,
     "metadata": {},
     "output_type": "execute_result"
    }
   ],
   "source": [
    "scale = Scale('C D E F G A B'.split(' '))\n",
    "scale.name"
   ]
  },
  {
   "cell_type": "code",
   "execution_count": null,
   "metadata": {},
   "outputs": [
    {
     "name": "stdout",
     "output_type": "stream",
     "text": [
      "Scale:  ['E', 'F', 'G#', 'A', 'B', 'C', 'D']\n",
      "Intervals:  ['1', 'b2', '3', '4', '5', 'b6', 'b7']\n",
      "Scale name:  E phrygian dominant\n",
      "\n",
      "A as root\n",
      "Scale:  ['A', 'B', 'C', 'D', 'E', 'F', 'G#']\n",
      "Intervals:  ['1', '2', 'b3', '4', '5', 'b6', '7']\n",
      "Scale name:  A harmonic minor\n"
     ]
    }
   ],
   "source": [
    "dominant_scale = scale.get_scale_from_dominant_chord_notes('E')\n",
    "\n",
    "print(\"Scale: \", dominant_scale.notes)\n",
    "print(\"Intervals: \", dominant_scale.intervals)\n",
    "print(\"Scale name: \", dominant_scale.name)\n",
    "\n",
    "new_root = 'A'\n",
    "dominant_scale = dominant_scale.reorder(new_root)\n",
    "\n",
    "print(f\"\\n{new_root} as root\")\n",
    "print(\"Scale: \", dominant_scale.notes)\n",
    "print(\"Intervals: \", dominant_scale.intervals)\n",
    "print(\"Scale name: \", dominant_scale.name)"
   ]
  },
  {
   "cell_type": "code",
   "execution_count": null,
   "metadata": {},
   "outputs": [
    {
     "data": {
      "text/plain": [
       "['Am7M', 'Bm7(b5)', 'C7M(#5)', 'Dm7', 'E7', 'F7M', 'G#dim']"
      ]
     },
     "execution_count": 16,
     "metadata": {},
     "output_type": "execute_result"
    }
   ],
   "source": [
    "from app.key import Key\n",
    "\n",
    "dominant_key = Key(dominant_scale)\n",
    "dominant_key.chords"
   ]
  },
  {
   "cell_type": "code",
   "execution_count": null,
   "metadata": {},
   "outputs": [
    {
     "data": {
      "text/plain": [
       "[2]"
      ]
     },
     "execution_count": 17,
     "metadata": {},
     "output_type": "execute_result"
    }
   ],
   "source": [
    "utils.calculate_distances_from_notes('E G#'.split(' '))"
   ]
  },
  {
   "cell_type": "markdown",
   "metadata": {},
   "source": [
    "- Cria notas do acorde\n",
    "- Preenche pra criar escala\n",
    "- Força intervalos 1 3 5 b7\n",
    "- Recria escala e pega chords[0]"
   ]
  },
  {
   "cell_type": "code",
   "execution_count": null,
   "metadata": {},
   "outputs": [
    {
     "ename": "NameError",
     "evalue": "name 'utils' is not defined",
     "output_type": "error",
     "traceback": [
      "\u001b[0;31m---------------------------------------------------------------------------\u001b[0m",
      "\u001b[0;31mNameError\u001b[0m                                 Traceback (most recent call last)",
      "Cell \u001b[0;32mIn[2], line 1\u001b[0m\n\u001b[0;32m----> 1\u001b[0m scale \u001b[38;5;241m=\u001b[39m \u001b[43mutils\u001b[49m\u001b[38;5;241m.\u001b[39mgenerate_scale_from_chord_name(\u001b[38;5;124m'\u001b[39m\u001b[38;5;124mE\u001b[39m\u001b[38;5;124m'\u001b[39m)\n\u001b[1;32m      2\u001b[0m scale\u001b[38;5;241m.\u001b[39mnotes\n",
      "\u001b[0;31mNameError\u001b[0m: name 'utils' is not defined"
     ]
    }
   ],
   "source": [
    "scale = utils.generate_scale_from_chord_name('E')\n",
    "scale.notes"
   ]
  },
  {
   "cell_type": "code",
   "execution_count": null,
   "metadata": {},
   "outputs": [
    {
     "data": {
      "text/plain": [
       "['C7M', 'Dm7', 'Em7', 'F7M', 'G7', 'Am7', 'Bm7(b5)']"
      ]
     },
     "execution_count": 7,
     "metadata": {},
     "output_type": "execute_result"
    }
   ],
   "source": [
    "key = Key(scale)\n",
    "key.chords"
   ]
  },
  {
   "cell_type": "code",
   "execution_count": null,
   "metadata": {},
   "outputs": [],
   "source": []
  }
 ],
 "metadata": {
  "kernelspec": {
   "display_name": "music-_XwLhQ35-py3.12",
   "language": "python",
   "name": "python3"
  },
  "language_info": {
   "codemirror_mode": {
    "name": "ipython",
    "version": 3
   },
   "file_extension": ".py",
   "mimetype": "text/x-python",
   "name": "python",
   "nbconvert_exporter": "python",
   "pygments_lexer": "ipython3",
   "version": "3.12.4"
  }
 },
 "nbformat": 4,
 "nbformat_minor": 2
}
