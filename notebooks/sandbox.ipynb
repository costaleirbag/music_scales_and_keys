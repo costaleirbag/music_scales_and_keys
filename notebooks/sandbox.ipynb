{
 "cells": [
  {
   "cell_type": "code",
   "execution_count": 1,
   "metadata": {},
   "outputs": [],
   "source": [
    "from app.scale import Scale\n",
    "from app.utils import utils"
   ]
  },
  {
   "cell_type": "code",
   "execution_count": 2,
   "metadata": {},
   "outputs": [
    {
     "data": {
      "text/plain": [
       "'C major'"
      ]
     },
     "execution_count": 2,
     "metadata": {},
     "output_type": "execute_result"
    }
   ],
   "source": [
    "scale = Scale('C D E F G A B'.split(' '))\n",
    "scale.name"
   ]
  },
  {
   "cell_type": "code",
   "execution_count": 3,
   "metadata": {},
   "outputs": [
    {
     "name": "stdout",
     "output_type": "stream",
     "text": [
      "Scale:  ['E', 'F', 'G#', 'A', 'B', 'C', 'D']\n",
      "Intervals:  ['1', 'b2', '3', '4', '5', 'b6', 'b7']\n",
      "Scale name:  E phrygian dominant\n",
      "\n",
      "A as root\n",
      "Scale:  ['A', 'B', 'C', 'D', 'E', 'F', 'G#']\n",
      "Intervals:  ['1', '2', 'b3', '4', '5', 'b6', '7']\n",
      "Scale name:  A harmonic minor\n"
     ]
    }
   ],
   "source": [
    "dominant_scale = scale.get_scale_from_dominant_chord_notes('E G# B D')\n",
    "\n",
    "print(\"Scale: \", dominant_scale.notes)\n",
    "print(\"Intervals: \", dominant_scale.intervals)\n",
    "print(\"Scale name: \", dominant_scale.name)\n",
    "\n",
    "from_A = Scale(utils.reorder_notes(dominant_scale.notes, 'A'))\n",
    "\n",
    "print(\"\\nA as root\")\n",
    "print(\"Scale: \", from_A.notes)\n",
    "print(\"Intervals: \", from_A.intervals)\n",
    "print(\"Scale name: \", from_A.name)"
   ]
  },
  {
   "cell_type": "code",
   "execution_count": 4,
   "metadata": {},
   "outputs": [
    {
     "data": {
      "text/plain": [
       "<app.scale.Scale at 0x1073e0a40>"
      ]
     },
     "execution_count": 4,
     "metadata": {},
     "output_type": "execute_result"
    }
   ],
   "source": [
    "Scale(utils.reorder_notes(dominant_scale.notes, 'A'))"
   ]
  },
  {
   "cell_type": "code",
   "execution_count": null,
   "metadata": {},
   "outputs": [],
   "source": []
  }
 ],
 "metadata": {
  "kernelspec": {
   "display_name": "music-_XwLhQ35-py3.12",
   "language": "python",
   "name": "python3"
  },
  "language_info": {
   "codemirror_mode": {
    "name": "ipython",
    "version": 3
   },
   "file_extension": ".py",
   "mimetype": "text/x-python",
   "name": "python",
   "nbconvert_exporter": "python",
   "pygments_lexer": "ipython3",
   "version": "3.12.4"
  }
 },
 "nbformat": 4,
 "nbformat_minor": 2
}
