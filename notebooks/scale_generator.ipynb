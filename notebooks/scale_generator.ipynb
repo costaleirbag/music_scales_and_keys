{
 "cells": [
  {
   "cell_type": "code",
   "execution_count": 6,
   "metadata": {},
   "outputs": [
    {
     "data": {
      "text/plain": [
       "['C', 'D', 'Eb', 'F', 'G', 'A', 'B']"
      ]
     },
     "execution_count": 6,
     "metadata": {},
     "output_type": "execute_result"
    }
   ],
   "source": [
    "import sys\n",
    "sys.path.append('..')\n",
    "\n",
    "from src.scale import Scale\n",
    "from src.key import Key\n",
    "from src.modes import Modes\n",
    "from src.utils.evaluation import melodic_evaluation\n",
    "\n",
    "type_of_scale = ['1', '2', 'b3', '4', '5', '6', '7']\n",
    "tonic = 'C'\n",
    "\n",
    "#input = ScaleInput(tonic=['C', 'D', 'E', 'F', 'G', 'A', 'B'])\n",
    "\n",
    "scale = Scale(tonic, type_of_scale)\n",
    "key = Key(scale)\n",
    "\n",
    "scale.notes"
   ]
  },
  {
   "cell_type": "code",
   "execution_count": 7,
   "metadata": {},
   "outputs": [
    {
     "data": {
      "text/plain": [
       "['Cm7M', 'Dm7', 'Eb7M(#5)', 'F7', 'G7', 'Am7(b5)', 'Bm7(b5)']"
      ]
     },
     "execution_count": 7,
     "metadata": {},
     "output_type": "execute_result"
    }
   ],
   "source": [
    "key.chords"
   ]
  },
  {
   "cell_type": "code",
   "execution_count": 8,
   "metadata": {},
   "outputs": [
    {
     "data": {
      "text/plain": [
       "[['1', '2', 'b3', '4', '5', '6', '7'],\n",
       " ['1', 'b2', 'b3', '4', '5', '6', 'b7'],\n",
       " ['1', '2', '3', '#4', '#5', '6', '7'],\n",
       " ['1', '2', '3', '#4', '5', '6', 'b7'],\n",
       " ['1', '2', '3', '4', '5', 'b6', 'b7'],\n",
       " ['1', '2', 'b3', '4', 'b5', 'b6', 'b7'],\n",
       " ['1', 'b2', 'b3', 'b4', 'b5', 'b6', 'b7']]"
      ]
     },
     "execution_count": 8,
     "metadata": {},
     "output_type": "execute_result"
    }
   ],
   "source": [
    "modes = Modes(scale)\n",
    "modes.intervals"
   ]
  },
  {
   "cell_type": "code",
   "execution_count": 9,
   "metadata": {},
   "outputs": [
    {
     "data": {
      "text/plain": [
       "[['Cm7M', 'Dm7', 'Eb7M(#5)', 'F7', 'G7', 'Am7(b5)', 'Bm7(b5)'],\n",
       " ['Cm7', 'Db7M(#5)', 'Eb7', 'F7', 'Gm7(b5)', 'Am7(b5)', 'Bbm7M'],\n",
       " ['C7M(#5)', 'D7', 'E7', 'F#m7(b5)', 'G#m7(b5)', 'Am7M', 'Bm7'],\n",
       " ['C7', 'D7', 'Em7(b5)', 'F#m7(b5)', 'Gm7M', 'Am7', 'Bb7M(#5)'],\n",
       " ['C7', 'Dm7(b5)', 'Em7(b5)', 'Fm7M', 'Gm7', 'Ab7M(#5)', 'Bb7'],\n",
       " ['Cm7(b5)', 'Dm7(b5)', 'Ebm7M', 'Fm7', 'Gb7M(#5)', 'Ab7', 'Bb7'],\n",
       " ['Cm7(b5)', 'Dbm7M', 'Ebm7', 'Fb7M(#5)', 'Gb7', 'Ab7', 'Bbm7(b5)']]"
      ]
     },
     "execution_count": 9,
     "metadata": {},
     "output_type": "execute_result"
    }
   ],
   "source": [
    "modes.chords"
   ]
  },
  {
   "cell_type": "code",
   "execution_count": 12,
   "metadata": {},
   "outputs": [
    {
     "name": "stdout",
     "output_type": "stream",
     "text": [
      "1 2 3 4 5 6 7\n",
      "1 2 b3 4 5 6 b7\n",
      "1 b2 b3 4 5 b6 b7\n",
      "1 2 3 #4 5 6 7\n",
      "1 2 3 4 5 6 b7\n",
      "1 2 b3 4 5 b6 b7\n",
      "1 b2 b3 4 b5 b6 b7\n"
     ]
    }
   ],
   "source": [
    "# Print modes.intervals list of lists as a unique string\n",
    "for mode in modes.intervals:\n",
    "    print(' '.join(mode))"
   ]
  },
  {
   "cell_type": "code",
   "execution_count": 5,
   "metadata": {},
   "outputs": [
    {
     "data": {
      "text/html": [
       "<div>\n",
       "<style scoped>\n",
       "    .dataframe tbody tr th:only-of-type {\n",
       "        vertical-align: middle;\n",
       "    }\n",
       "\n",
       "    .dataframe tbody tr th {\n",
       "        vertical-align: top;\n",
       "    }\n",
       "\n",
       "    .dataframe thead th {\n",
       "        text-align: right;\n",
       "    }\n",
       "</style>\n",
       "<table border=\"1\" class=\"dataframe\">\n",
       "  <thead>\n",
       "    <tr style=\"text-align: right;\">\n",
       "      <th></th>\n",
       "      <th>0</th>\n",
       "      <th>1</th>\n",
       "      <th>2</th>\n",
       "      <th>3</th>\n",
       "      <th>4</th>\n",
       "      <th>5</th>\n",
       "      <th>6</th>\n",
       "    </tr>\n",
       "  </thead>\n",
       "  <tbody>\n",
       "    <tr>\n",
       "      <th>0</th>\n",
       "      <td>C7M</td>\n",
       "      <td>Dm7</td>\n",
       "      <td>Em7</td>\n",
       "      <td>F7M</td>\n",
       "      <td>G7</td>\n",
       "      <td>Am7</td>\n",
       "      <td>Bm7(b5)</td>\n",
       "    </tr>\n",
       "    <tr>\n",
       "      <th>1</th>\n",
       "      <td>Cm7</td>\n",
       "      <td>Dm7</td>\n",
       "      <td>Eb7M</td>\n",
       "      <td>F7</td>\n",
       "      <td>Gm7</td>\n",
       "      <td>Am7(b5)</td>\n",
       "      <td>Bb7M</td>\n",
       "    </tr>\n",
       "    <tr>\n",
       "      <th>2</th>\n",
       "      <td>Cm7</td>\n",
       "      <td>Db7M</td>\n",
       "      <td>Eb7</td>\n",
       "      <td>Fm7</td>\n",
       "      <td>Gm7(b5)</td>\n",
       "      <td>Ab7M</td>\n",
       "      <td>Bbm7</td>\n",
       "    </tr>\n",
       "    <tr>\n",
       "      <th>3</th>\n",
       "      <td>C7M</td>\n",
       "      <td>D7</td>\n",
       "      <td>Em7</td>\n",
       "      <td>F#m7(b5)</td>\n",
       "      <td>G7M</td>\n",
       "      <td>Am7</td>\n",
       "      <td>Bm7</td>\n",
       "    </tr>\n",
       "    <tr>\n",
       "      <th>4</th>\n",
       "      <td>C7</td>\n",
       "      <td>Dm7</td>\n",
       "      <td>Em7(b5)</td>\n",
       "      <td>F7M</td>\n",
       "      <td>Gm7</td>\n",
       "      <td>Am7</td>\n",
       "      <td>Bb7M</td>\n",
       "    </tr>\n",
       "    <tr>\n",
       "      <th>5</th>\n",
       "      <td>Cm7</td>\n",
       "      <td>Dm7(b5)</td>\n",
       "      <td>Eb7M</td>\n",
       "      <td>Fm7</td>\n",
       "      <td>Gm7</td>\n",
       "      <td>Ab7M</td>\n",
       "      <td>Bb7</td>\n",
       "    </tr>\n",
       "    <tr>\n",
       "      <th>6</th>\n",
       "      <td>Cm7(b5)</td>\n",
       "      <td>Db7M</td>\n",
       "      <td>Ebm7</td>\n",
       "      <td>Fm7</td>\n",
       "      <td>Gb7M</td>\n",
       "      <td>Ab7</td>\n",
       "      <td>Bbm7</td>\n",
       "    </tr>\n",
       "  </tbody>\n",
       "</table>\n",
       "</div>"
      ],
      "text/plain": [
       "         0        1        2         3        4        5        6\n",
       "0      C7M      Dm7      Em7       F7M       G7      Am7  Bm7(b5)\n",
       "1      Cm7      Dm7     Eb7M        F7      Gm7  Am7(b5)     Bb7M\n",
       "2      Cm7     Db7M      Eb7       Fm7  Gm7(b5)     Ab7M     Bbm7\n",
       "3      C7M       D7      Em7  F#m7(b5)      G7M      Am7      Bm7\n",
       "4       C7      Dm7  Em7(b5)       F7M      Gm7      Am7     Bb7M\n",
       "5      Cm7  Dm7(b5)     Eb7M       Fm7      Gm7     Ab7M      Bb7\n",
       "6  Cm7(b5)     Db7M     Ebm7       Fm7     Gb7M      Ab7     Bbm7"
      ]
     },
     "execution_count": 5,
     "metadata": {},
     "output_type": "execute_result"
    }
   ],
   "source": [
    "import pandas as pd\n",
    "pd.DataFrame(modes.chords)"
   ]
  },
  {
   "cell_type": "code",
   "execution_count": 6,
   "metadata": {},
   "outputs": [],
   "source": [
    "if type_of_scale == \"melodic minor\" and tonic == 'C':\n",
    "    melodic_evaluation(modes)"
   ]
  },
  {
   "cell_type": "code",
   "execution_count": 7,
   "metadata": {},
   "outputs": [
    {
     "data": {
      "text/plain": [
       "['C', 'Db', 'Eb', 'Fb', 'Gb', 'Ab', 'Bbb']"
      ]
     },
     "execution_count": 7,
     "metadata": {},
     "output_type": "execute_result"
    }
   ],
   "source": [
    "Scale('C', ['1', 'b2', 'b3', 'b4', 'b5', 'b6', 'bb7']).notes"
   ]
  }
 ],
 "metadata": {
  "kernelspec": {
   "display_name": "sandbox-ezJulrnj",
   "language": "python",
   "name": "python3"
  },
  "language_info": {
   "codemirror_mode": {
    "name": "ipython",
    "version": 3
   },
   "file_extension": ".py",
   "mimetype": "text/x-python",
   "name": "python",
   "nbconvert_exporter": "python",
   "pygments_lexer": "ipython3",
   "version": "3.11.1"
  }
 },
 "nbformat": 4,
 "nbformat_minor": 2
}
