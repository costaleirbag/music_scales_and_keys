{
 "cells": [
  {
   "cell_type": "code",
   "execution_count": 1,
   "metadata": {},
   "outputs": [
    {
     "data": {
      "text/plain": [
       "['C', 'Db', 'Eb', 'F', 'G', 'A', 'B']"
      ]
     },
     "execution_count": 1,
     "metadata": {},
     "output_type": "execute_result"
    }
   ],
   "source": [
    "from app.scale import Scale\n",
    "from app.key import Key\n",
    "from app.modes import Modes\n",
    "from app.utils.evaluation import melodic_evaluation\n",
    "from app.utils import utils\n",
    "\n",
    "tonic = 'C'\n",
    "type_of_scale = ['1', 'b2', 'b3', '4', '5', '6', '7']\n",
    "    \n",
    "#input = ScaleInput(tonic=['C', 'D', 'E', 'F', 'G', 'A', 'B'])\n",
    "scale = Scale(tonic=tonic, intervals=type_of_scale)\n",
    "key = Key(scale)\n",
    "                                                                            \n",
    "scale.notes"
   ]
  },
  {
   "cell_type": "code",
   "execution_count": 2,
   "metadata": {},
   "outputs": [
    {
     "data": {
      "text/plain": [
       "['Cm7M', 'Db7M(#5)', 'Eb7(#5)', 'F7', 'G7(b5)', 'Am7(b5)', 'B7(b5)']"
      ]
     },
     "execution_count": 2,
     "metadata": {},
     "output_type": "execute_result"
    }
   ],
   "source": [
    "key.chords"
   ]
  },
  {
   "cell_type": "code",
   "execution_count": 3,
   "metadata": {},
   "outputs": [
    {
     "data": {
      "text/plain": [
       "[['1', 'b2', 'b3', '4', '5', '6', '7'],\n",
       " ['1', '2', '3', '#4', '#5', '#6', '7'],\n",
       " ['1', '2', '3', '#4', '#5', '6', 'b7'],\n",
       " ['1', '2', '3', '#4', '5', 'b6', 'b7'],\n",
       " ['1', '2', '3', '4', 'b5', 'b6', 'b7'],\n",
       " ['1', '2', 'b3', 'b4', 'b5', 'b6', 'b7'],\n",
       " ['1', 'b2', 'bb3', 'b4', 'b5', 'b6', 'b7']]"
      ]
     },
     "execution_count": 3,
     "metadata": {},
     "output_type": "execute_result"
    }
   ],
   "source": [
    "modes = Modes(scale)\n",
    "modes.intervals"
   ]
  },
  {
   "cell_type": "code",
   "execution_count": 4,
   "metadata": {},
   "outputs": [
    {
     "data": {
      "text/plain": [
       "[['Cm7M', 'Db7M(#5)', 'Eb7(#5)', 'F7', 'G7(b5)', 'Am7(b5)', 'B7(b5)'],\n",
       " ['C7M(#5)', 'D7(#5)', 'E7', 'F#7(b5)', 'G#m7(b5)', 'A#7(b5)', 'Bm7M'],\n",
       " ['C7(#5)', 'D7', 'E7(b5)', 'F#m7(b5)', 'G#7(b5)', 'Am7M', 'Bb7M(#5)'],\n",
       " ['C7', 'D7(b5)', 'Em7(b5)', 'F#7(b5)', 'Gm7M', 'Ab7M(#5)', 'Bb7(#5)'],\n",
       " ['C7(b5)', 'Dm7(b5)', 'E7(b5)', 'Fm7M', 'Gb7M(#5)', 'Ab7(#5)', 'Bb7'],\n",
       " ['Cm7(b5)', 'D7(b5)', 'Ebm7M', 'Fb7M(#5)', 'Gb7(#5)', 'Ab7', 'Bb7(b5)'],\n",
       " ['C7(b5)', 'Dbm7M', 'Ebb7M(#5)', 'F#7(#5)', 'G#7', 'A#7(b5)', 'B#m7(b5)']]"
      ]
     },
     "execution_count": 4,
     "metadata": {},
     "output_type": "execute_result"
    }
   ],
   "source": [
    "modes.chords"
   ]
  },
  {
   "cell_type": "code",
   "execution_count": 5,
   "metadata": {},
   "outputs": [
    {
     "name": "stdout",
     "output_type": "stream",
     "text": [
      "1 b2 b3 4 5 6 7\n",
      "1 2 3 #4 #5 #6 7\n",
      "1 2 3 #4 #5 6 b7\n",
      "1 2 3 #4 5 b6 b7\n",
      "1 2 3 4 b5 b6 b7\n",
      "1 2 b3 b4 b5 b6 b7\n",
      "1 b2 bb3 b4 b5 b6 b7\n"
     ]
    }
   ],
   "source": [
    "# Print modes.intervals list of lists as a unique string\n",
    "for mode in modes.intervals:\n",
    "    print(' '.join(mode))"
   ]
  },
  {
   "cell_type": "code",
   "execution_count": 6,
   "metadata": {},
   "outputs": [],
   "source": [
    "if type_of_scale == \"melodic minor\" and tonic == 'C':\n",
    "    melodic_evaluation(modes)"
   ]
  },
  {
   "cell_type": "code",
   "execution_count": 7,
   "metadata": {},
   "outputs": [
    {
     "data": {
      "text/plain": [
       "['1', '2', '3', '4', '5', '6', '7']"
      ]
     },
     "execution_count": 7,
     "metadata": {},
     "output_type": "execute_result"
    }
   ],
   "source": [
    "scale = Scale('C D E F G A B'.split(' '))\n",
    "scale.intervals"
   ]
  },
  {
   "cell_type": "code",
   "execution_count": 8,
   "metadata": {},
   "outputs": [
    {
     "name": "stdout",
     "output_type": "stream",
     "text": [
      "C\n",
      "D\n",
      "E\n",
      "F\n",
      "G\n",
      "A\n",
      "B\n",
      "['E', 'F', 'G#', 'A', 'B', 'C', 'D']\n"
     ]
    },
    {
     "data": {
      "text/plain": [
       "'E phrygian dominant'"
      ]
     },
     "execution_count": 8,
     "metadata": {},
     "output_type": "execute_result"
    }
   ],
   "source": [
    "dominant_scale = scale.get_scale_from_dominant_chord_notes('E G# B D')\n",
    "dominant_scale.name"
   ]
  },
  {
   "cell_type": "code",
   "execution_count": null,
   "metadata": {},
   "outputs": [],
   "source": []
  }
 ],
 "metadata": {
  "kernelspec": {
   "display_name": "sandbox-ezJulrnj",
   "language": "python",
   "name": "python3"
  },
  "language_info": {
   "codemirror_mode": {
    "name": "ipython",
    "version": 3
   },
   "file_extension": ".py",
   "mimetype": "text/x-python",
   "name": "python",
   "nbconvert_exporter": "python",
   "pygments_lexer": "ipython3",
   "version": "3.12.4"
  }
 },
 "nbformat": 4,
 "nbformat_minor": 2
}
