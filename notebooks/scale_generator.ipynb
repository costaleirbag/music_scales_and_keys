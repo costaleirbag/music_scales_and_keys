{
 "cells": [
  {
   "cell_type": "code",
   "execution_count": 1,
   "metadata": {},
   "outputs": [
    {
     "data": {
      "text/plain": [
       "['C', 'D', 'Eb', 'F', 'G', 'A', 'B']"
      ]
     },
     "execution_count": 1,
     "metadata": {},
     "output_type": "execute_result"
    }
   ],
   "source": [
    "import sys\n",
    "sys.path.append('..')\n",
    "\n",
    "from src.scale import Scale\n",
    "from src.key import Key\n",
    "from src.modes import Modes\n",
    "\n",
    "scale = Scale(\"C\", 'melodic minor')\n",
    "key = Key(scale) \n",
    "\n",
    "scale.notes"
   ]
  },
  {
   "cell_type": "code",
   "execution_count": 2,
   "metadata": {},
   "outputs": [
    {
     "data": {
      "text/plain": [
       "[['1', '2', 'b3', '4', '5', '6', '7'],\n",
       " ['1', 'b2', 'b3', '4', '5', '6', 'b7'],\n",
       " ['1', '2', '3', '#4', '#5', '6', '7'],\n",
       " ['1', '2', '3', '#4', '5', '6', 'b7'],\n",
       " ['1', '2', '3', '4', '5', 'b6', 'b7'],\n",
       " ['1', '2', 'b3', '4', 'b5', 'b6', 'b7'],\n",
       " ['1', 'b2', 'b3', 'b4', 'b5', 'b6', 'b7']]"
      ]
     },
     "execution_count": 2,
     "metadata": {},
     "output_type": "execute_result"
    }
   ],
   "source": [
    "modes = Modes(scale)\n",
    "modes.intervals"
   ]
  },
  {
   "cell_type": "code",
   "execution_count": 3,
   "metadata": {},
   "outputs": [],
   "source": [
    "gt_intervals = [\n",
    "    ['1', '2', 'b3', '4', '5', '6', '7'],\n",
    "    ['1', 'b2', 'b3', '4', '5', '6', 'b7'],\n",
    "    ['1', '2', '3', '#4', '#5', '6', '7'],\n",
    "    ['1', '2', '3', '#4', '5', '6', 'b7'],\n",
    "    ['1', '2', '3', '4', '5', 'b6', 'b7'],\n",
    "    ['1', '2', 'b3', '4', 'b5', 'b6', 'b7'],\n",
    "    ['1', 'b2', 'b3', 'b4', 'b5', 'b6', 'b7']\n",
    " ]"
   ]
  },
  {
   "cell_type": "code",
   "execution_count": 4,
   "metadata": {},
   "outputs": [
    {
     "name": "stdout",
     "output_type": "stream",
     "text": [
      "Mode 1 is correct\n",
      "\n",
      "Mode 2 is correct\n",
      "\n",
      "Mode 3 is correct\n",
      "\n",
      "Mode 4 is correct\n",
      "\n",
      "Mode 5 is correct\n",
      "\n",
      "Mode 6 is correct\n",
      "\n",
      "Mode 7 is correct\n",
      "\n"
     ]
    }
   ],
   "source": [
    "# Print which values from modes.intervals are different than gt_intervals\n",
    "for i in range(7):\n",
    "    if modes.intervals[i] != gt_intervals[i]:\n",
    "        print(f\"Mode {i+1} is different\")\n",
    "        print(f\"Expected: {gt_intervals[i]}\")\n",
    "        print(f\"Got:      {modes.intervals[i]}\")\n",
    "        print()\n",
    "    else:\n",
    "        print(f\"Mode {i+1} is correct\")\n",
    "        print()"
   ]
  },
  {
   "cell_type": "code",
   "execution_count": 5,
   "metadata": {},
   "outputs": [
    {
     "data": {
      "text/plain": [
       "[['Cm7M', 'Dm7', 'Eb7M(#5)', 'F7', 'G7', 'Am7(b5)', 'Bm7(b5)'],\n",
       " ['Cm7', 'Db7M(#5)', 'Eb7', 'F7', 'Gm7(b5)', 'Am7(b5)', 'Bbm7M'],\n",
       " ['C7M(#5)', 'D7', 'E7', 'F#m7(b5)', 'G#m7(b5)', 'Am7M', 'Bm7'],\n",
       " ['C7', 'D7', 'Em7(b5)', 'F#m7(b5)', 'Gm7M', 'Am7', 'Bb7M(#5)'],\n",
       " ['C7', 'Dm7(b5)', 'Em7(b5)', 'Fm7M', 'Gm7', 'Ab7M(#5)', 'Bb7'],\n",
       " ['Cm7(b5)', 'Dm7(b5)', 'Ebm7M', 'Fm7', 'Gb7M(#5)', 'Ab7', 'Bb7'],\n",
       " ['Cm7(b5)', 'Dbm7M', 'Ebm7', 'Fb7M(#5)', 'Gb7', 'Ab7', 'Bbm7(b5)']]"
      ]
     },
     "execution_count": 5,
     "metadata": {},
     "output_type": "execute_result"
    }
   ],
   "source": [
    "modes.chords"
   ]
  },
  {
   "cell_type": "code",
   "execution_count": 6,
   "metadata": {},
   "outputs": [
    {
     "data": {
      "text/plain": [
       "[['Cm7M', 'Dm7', 'Eb7M(#5)', 'F7', 'G7', 'Am7(b5)', 'Bm7(b5)'],\n",
       " ['Cm7', 'Db7M(#5)', 'Eb7', 'F7', 'Gm7(b5)', 'Am7(b5)', 'Bbm7M'],\n",
       " ['C7M(#5)', 'D7', 'E7', 'F#m7(b5)', 'G#m7(b5)', 'Am7M', 'Bm7'],\n",
       " ['C7', 'D7', 'Em7(b5)', 'F#m7(b5)', 'Gm7M', 'Am7', 'Bb7M(#5)'],\n",
       " ['C7', 'Dm7(b5)', 'Em7(b5)', 'Fm7M', 'Gm7', 'Ab7M(#5)', 'Bb7'],\n",
       " ['Cm7(b5)', 'Dm7(b5)', 'Ebm7M', 'Fm7', 'Gb7M(#5)', 'Ab7', 'Bb7'],\n",
       " ['Cm7(b5)', 'Dbm7M', 'Ebm7', 'Fb7M(#5)', 'Gb7', 'Ab7', 'Bbm7(b5)']]"
      ]
     },
     "execution_count": 6,
     "metadata": {},
     "output_type": "execute_result"
    }
   ],
   "source": [
    "string_chords = \"\"\"Cm7M\tDm7\tEb7M(#5)\tF7\tG7\tAm7(b5)\tBm7(b5)\n",
    "Cm7\tDb7M(#5)\tEb7\tF7\tGm7(b5)\tAm7(b5)\tBbm7M\n",
    "C7M(#5)\tD7\tE7\tF#m7(b5)\tG#m7(b5)\tAm7M\tBm7\n",
    "C7\tD7\tEm7(b5)\tF#m7(b5)\tGm7M\tAm7\tBb7M(#5)\n",
    "C7\tDm7(b5)\tEm7(b5)\tFm7M\tGm7\tAb7M(#5)\tBb7\n",
    "Cm7(b5)\tDm7(b5)\tEbm7M\tFm7\tGb7M(#5)\tAb7\tBb7\n",
    "Cm7(b5)\tDbm7M\tEbm7\tFb7M(#5)\tGb7\tAb7\tBbm7(b5)\"\"\"\n",
    "\n",
    "# Split string_chords into a list of lists\n",
    "gt_chords = [line.split() for line in string_chords.split('\\n')]\n",
    "gt_chords"
   ]
  },
  {
   "cell_type": "code",
   "execution_count": 7,
   "metadata": {},
   "outputs": [
    {
     "name": "stdout",
     "output_type": "stream",
     "text": [
      "Mode 1 is correct\n",
      "\n",
      "Mode 2 is correct\n",
      "\n",
      "Mode 3 is correct\n",
      "\n",
      "Mode 4 is correct\n",
      "\n",
      "Mode 5 is correct\n",
      "\n",
      "Mode 6 is correct\n",
      "\n",
      "Mode 7 is correct\n",
      "\n"
     ]
    }
   ],
   "source": [
    "# Print which chords from modes.chords are different than gt_chords\n",
    "for i in range(7):\n",
    "    if modes.chords[i] != gt_chords[i]:\n",
    "        print(f\"Mode {i+1} is different\")\n",
    "        print(f\"Expected: {gt_chords[i]}\")\n",
    "        print(f\"Got:      {modes.chords[i]}\")\n",
    "        print()\n",
    "    else:\n",
    "        print(f\"Mode {i+1} is correct\")\n",
    "        print()"
   ]
  },
  {
   "cell_type": "code",
   "execution_count": 8,
   "metadata": {},
   "outputs": [
    {
     "data": {
      "text/plain": [
       "['C7M(#5)', 'D7', 'E7', 'F#m7(b5)', 'G#m7(b5)', 'Am7M', 'Bm7']"
      ]
     },
     "execution_count": 8,
     "metadata": {},
     "output_type": "execute_result"
    }
   ],
   "source": [
    "key = Key(Scale(\"C\", ['1', '2', '3', '#4', '#5', '6', '7']))\n",
    "key.chords"
   ]
  },
  {
   "cell_type": "code",
   "execution_count": 9,
   "metadata": {},
   "outputs": [
    {
     "data": {
      "text/plain": [
       "['C', 'D', 'E', 'F#', 'G#', 'A', 'B']"
      ]
     },
     "execution_count": 9,
     "metadata": {},
     "output_type": "execute_result"
    }
   ],
   "source": [
    "key.scale.notes"
   ]
  }
 ],
 "metadata": {
  "kernelspec": {
   "display_name": "sandbox-ezJulrnj",
   "language": "python",
   "name": "python3"
  },
  "language_info": {
   "codemirror_mode": {
    "name": "ipython",
    "version": 3
   },
   "file_extension": ".py",
   "mimetype": "text/x-python",
   "name": "python",
   "nbconvert_exporter": "python",
   "pygments_lexer": "ipython3",
   "version": "3.11.9"
  }
 },
 "nbformat": 4,
 "nbformat_minor": 2
}
