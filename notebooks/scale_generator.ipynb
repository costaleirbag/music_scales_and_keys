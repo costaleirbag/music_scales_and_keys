{
 "cells": [
  {
   "cell_type": "code",
   "execution_count": 1,
   "metadata": {},
   "outputs": [
    {
     "data": {
      "text/plain": [
       "['C', 'D', 'Eb', 'F', 'G', 'Ab', 'B']"
      ]
     },
     "execution_count": 1,
     "metadata": {},
     "output_type": "execute_result"
    }
   ],
   "source": [
    "import sys\n",
    "sys.path.append('..')\n",
    "\n",
    "from src.scale import Scale\n",
    "from src.key import Key\n",
    "from src.modes import Modes\n",
    "from src.utils.evaluation import melodic_evaluation\n",
    "\n",
    "type_of_scale = \"harmonic minor\"\n",
    "tonic = 'C'\n",
    "\n",
    "scale = Scale(tonic, type_of_scale)\n",
    "key = Key(scale)\n",
    "\n",
    "scale.notes"
   ]
  },
  {
   "cell_type": "code",
   "execution_count": 2,
   "metadata": {},
   "outputs": [
    {
     "data": {
      "text/plain": [
       "[['1', '2', 'b3', '4', '5', 'b6', '7'],\n",
       " ['1', 'b2', 'b3', '4', 'b5', '6', 'b7'],\n",
       " ['1', '2', '3', '4', '#5', '6', '7'],\n",
       " ['1', '2', 'b3', '#4', '5', '6', 'b7'],\n",
       " ['1', 'b2', '3', '4', '5', 'b6', 'b7'],\n",
       " ['1', '#2', '3', '#4', '5', '6', '7'],\n",
       " ['1', 'b2', 'b3', 'b4', 'b5', 'b6', 'bb7']]"
      ]
     },
     "execution_count": 2,
     "metadata": {},
     "output_type": "execute_result"
    }
   ],
   "source": [
    "modes = Modes(scale)\n",
    "modes.intervals"
   ]
  },
  {
   "cell_type": "code",
   "execution_count": 3,
   "metadata": {},
   "outputs": [
    {
     "data": {
      "text/plain": [
       "[['Cm7M', 'Dm7(b5)', 'Eb7M(#5)', 'Fm7', 'G7', 'Ab7M', 'Bdim'],\n",
       " ['Cm7(b5)', 'Db7M(#5)', 'Ebm7', 'F7', 'Gb7M', 'Adim', 'Bbm7M'],\n",
       " ['C7M(#5)', 'Dm7', 'E7', 'F7M', 'G#dim', 'Am7M', 'Bm7(b5)'],\n",
       " ['Cm7', 'D7', 'Eb7M', 'F#dim', 'Gm7M', 'Am7(b5)', 'Bb7M(#5)'],\n",
       " ['C7', 'Db7M', 'Edim', 'Fm7M', 'Gm7(b5)', 'Ab7M(#5)', 'Bbm7'],\n",
       " ['C7M', 'D#dim', 'Em7M', 'F#m7(b5)', 'G7M(#5)', 'Am7', 'B7'],\n",
       " ['Cdim', 'Dbm7M', 'Ebm7(b5)', 'Fb7M(#5)', 'Gbm7', 'Ab7', 'Bbb7M']]"
      ]
     },
     "execution_count": 3,
     "metadata": {},
     "output_type": "execute_result"
    }
   ],
   "source": [
    "modes.chords"
   ]
  },
  {
   "cell_type": "code",
   "execution_count": 4,
   "metadata": {},
   "outputs": [
    {
     "name": "stdout",
     "output_type": "stream",
     "text": [
      "1 2 b3 4 5 b6 7\n",
      "1 b2 b3 4 b5 6 b7\n",
      "1 2 3 4 #5 6 7\n",
      "1 2 b3 #4 5 6 b7\n",
      "1 b2 3 4 5 b6 b7\n",
      "1 #2 3 #4 5 6 7\n",
      "1 b2 b3 b4 b5 b6 bb7\n"
     ]
    }
   ],
   "source": [
    "# Print modes.intervals list of lists as a unique string\n",
    "for mode in modes.intervals:\n",
    "    print(' '.join(mode))"
   ]
  },
  {
   "cell_type": "code",
   "execution_count": 5,
   "metadata": {},
   "outputs": [
    {
     "data": {
      "text/html": [
       "<div>\n",
       "<style scoped>\n",
       "    .dataframe tbody tr th:only-of-type {\n",
       "        vertical-align: middle;\n",
       "    }\n",
       "\n",
       "    .dataframe tbody tr th {\n",
       "        vertical-align: top;\n",
       "    }\n",
       "\n",
       "    .dataframe thead th {\n",
       "        text-align: right;\n",
       "    }\n",
       "</style>\n",
       "<table border=\"1\" class=\"dataframe\">\n",
       "  <thead>\n",
       "    <tr style=\"text-align: right;\">\n",
       "      <th></th>\n",
       "      <th>0</th>\n",
       "      <th>1</th>\n",
       "      <th>2</th>\n",
       "      <th>3</th>\n",
       "      <th>4</th>\n",
       "      <th>5</th>\n",
       "      <th>6</th>\n",
       "    </tr>\n",
       "  </thead>\n",
       "  <tbody>\n",
       "    <tr>\n",
       "      <th>0</th>\n",
       "      <td>Cm7M</td>\n",
       "      <td>Dm7(b5)</td>\n",
       "      <td>Eb7M(#5)</td>\n",
       "      <td>Fm7</td>\n",
       "      <td>G7</td>\n",
       "      <td>Ab7M</td>\n",
       "      <td>Bdim</td>\n",
       "    </tr>\n",
       "    <tr>\n",
       "      <th>1</th>\n",
       "      <td>Cm7(b5)</td>\n",
       "      <td>Db7M(#5)</td>\n",
       "      <td>Ebm7</td>\n",
       "      <td>F7</td>\n",
       "      <td>Gb7M</td>\n",
       "      <td>Adim</td>\n",
       "      <td>Bbm7M</td>\n",
       "    </tr>\n",
       "    <tr>\n",
       "      <th>2</th>\n",
       "      <td>C7M(#5)</td>\n",
       "      <td>Dm7</td>\n",
       "      <td>E7</td>\n",
       "      <td>F7M</td>\n",
       "      <td>G#dim</td>\n",
       "      <td>Am7M</td>\n",
       "      <td>Bm7(b5)</td>\n",
       "    </tr>\n",
       "    <tr>\n",
       "      <th>3</th>\n",
       "      <td>Cm7</td>\n",
       "      <td>D7</td>\n",
       "      <td>Eb7M</td>\n",
       "      <td>F#dim</td>\n",
       "      <td>Gm7M</td>\n",
       "      <td>Am7(b5)</td>\n",
       "      <td>Bb7M(#5)</td>\n",
       "    </tr>\n",
       "    <tr>\n",
       "      <th>4</th>\n",
       "      <td>C7</td>\n",
       "      <td>Db7M</td>\n",
       "      <td>Edim</td>\n",
       "      <td>Fm7M</td>\n",
       "      <td>Gm7(b5)</td>\n",
       "      <td>Ab7M(#5)</td>\n",
       "      <td>Bbm7</td>\n",
       "    </tr>\n",
       "    <tr>\n",
       "      <th>5</th>\n",
       "      <td>C7M</td>\n",
       "      <td>D#dim</td>\n",
       "      <td>Em7M</td>\n",
       "      <td>F#m7(b5)</td>\n",
       "      <td>G7M(#5)</td>\n",
       "      <td>Am7</td>\n",
       "      <td>B7</td>\n",
       "    </tr>\n",
       "    <tr>\n",
       "      <th>6</th>\n",
       "      <td>Cdim</td>\n",
       "      <td>Dbm7M</td>\n",
       "      <td>Ebm7(b5)</td>\n",
       "      <td>Fb7M(#5)</td>\n",
       "      <td>Gbm7</td>\n",
       "      <td>Ab7</td>\n",
       "      <td>Bbb7M</td>\n",
       "    </tr>\n",
       "  </tbody>\n",
       "</table>\n",
       "</div>"
      ],
      "text/plain": [
       "         0         1         2         3        4         5         6\n",
       "0     Cm7M   Dm7(b5)  Eb7M(#5)       Fm7       G7      Ab7M      Bdim\n",
       "1  Cm7(b5)  Db7M(#5)      Ebm7        F7     Gb7M      Adim     Bbm7M\n",
       "2  C7M(#5)       Dm7        E7       F7M    G#dim      Am7M   Bm7(b5)\n",
       "3      Cm7        D7      Eb7M     F#dim     Gm7M   Am7(b5)  Bb7M(#5)\n",
       "4       C7      Db7M      Edim      Fm7M  Gm7(b5)  Ab7M(#5)      Bbm7\n",
       "5      C7M     D#dim      Em7M  F#m7(b5)  G7M(#5)       Am7        B7\n",
       "6     Cdim     Dbm7M  Ebm7(b5)  Fb7M(#5)     Gbm7       Ab7     Bbb7M"
      ]
     },
     "execution_count": 5,
     "metadata": {},
     "output_type": "execute_result"
    }
   ],
   "source": [
    "import pandas as pd\n",
    "pd.DataFrame(modes.chords)"
   ]
  },
  {
   "cell_type": "code",
   "execution_count": 6,
   "metadata": {},
   "outputs": [],
   "source": [
    "if type_of_scale == \"melodic minor\" and tonic == 'C':\n",
    "    melodic_evaluation(modes)"
   ]
  },
  {
   "cell_type": "code",
   "execution_count": 7,
   "metadata": {},
   "outputs": [
    {
     "data": {
      "text/plain": [
       "['C', 'Db', 'Eb', 'Fb', 'Gb', 'Ab', 'Bbb']"
      ]
     },
     "execution_count": 7,
     "metadata": {},
     "output_type": "execute_result"
    }
   ],
   "source": [
    "Scale('C', ['1', 'b2', 'b3', 'b4', 'b5', 'b6', 'bb7']).notes"
   ]
  },
  {
   "cell_type": "code",
   "execution_count": 8,
   "metadata": {},
   "outputs": [
    {
     "name": "stdout",
     "output_type": "stream",
     "text": [
      "pygame 2.5.2 (SDL 2.28.3, Python 3.11.9)\n",
      "Hello from the pygame community. https://www.pygame.org/contribute.html\n"
     ]
    }
   ],
   "source": [
    "import mido\n",
    "import pygame\n",
    "import pygame.midi\n",
    "import time\n",
    "\n",
    "def play_chord(notes, duration=1):\n",
    "    # Initialize Pygame MIDI\n",
    "    pygame.init()\n",
    "    pygame.midi.init()\n",
    "    \n",
    "    # Open a MIDI output\n",
    "    port = pygame.midi.Output(pygame.midi.get_default_output_id())\n",
    "    \n",
    "    # Set instrument to acoustic grand piano (MIDI program 0)\n",
    "    port.set_instrument(0)\n",
    "    \n",
    "    # Start playing each note in the chord\n",
    "    for note in notes:\n",
    "        port.note_on(note, velocity=100)  # note on with velocity 100\n",
    "    \n",
    "    # Let the chord play for the duration specified\n",
    "    time.sleep(duration)\n",
    "    \n",
    "    # Stop playing each note\n",
    "    for note in notes:\n",
    "        port.note_off(note, velocity=100)  # note off with velocity 100\n",
    "    \n",
    "    # Close the MIDI port and quit pygame\n",
    "    port.close()\n",
    "    pygame.midi.quit()\n",
    "    pygame.quit()"
   ]
  },
  {
   "cell_type": "code",
   "execution_count": null,
   "metadata": {},
   "outputs": [],
   "source": []
  }
 ],
 "metadata": {
  "kernelspec": {
   "display_name": "sandbox-ezJulrnj",
   "language": "python",
   "name": "python3"
  },
  "language_info": {
   "codemirror_mode": {
    "name": "ipython",
    "version": 3
   },
   "file_extension": ".py",
   "mimetype": "text/x-python",
   "name": "python",
   "nbconvert_exporter": "python",
   "pygments_lexer": "ipython3",
   "version": "3.11.9"
  }
 },
 "nbformat": 4,
 "nbformat_minor": 2
}
