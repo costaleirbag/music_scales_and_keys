{
 "cells": [
  {
   "cell_type": "code",
   "execution_count": 20,
   "metadata": {},
   "outputs": [
    {
     "data": {
      "text/plain": [
       "['C', 'D', 'Eb', 'F', 'G', 'Ab', 'B']"
      ]
     },
     "execution_count": 20,
     "metadata": {},
     "output_type": "execute_result"
    }
   ],
   "source": [
    "import sys\n",
    "sys.path.append('..')\n",
    "\n",
    "from src.scale import Scale\n",
    "from src.key import Key\n",
    "from src.modes import Modes\n",
    "\n",
    "scale = Scale(\"C\", 'harmonic minor')\n",
    "key = Key(scale) \n",
    "\n",
    "scale.notes"
   ]
  },
  {
   "cell_type": "code",
   "execution_count": 21,
   "metadata": {},
   "outputs": [
    {
     "data": {
      "text/plain": [
       "[['1', '2', 'b3', '4', '5', 'b6', '7'],\n",
       " ['1', 'b2', 'b3', '4', 'b5', '6', 'b7'],\n",
       " ['1', '2', '3', '4', '#5', '6', '7'],\n",
       " ['1', '2', 'b3', '#4', '5', '6', 'b7'],\n",
       " ['1', 'b2', '3', '4', '5', 'b6', 'b7'],\n",
       " ['1', '#2', '3', '#4', '5', '6', '7'],\n",
       " ['1', 'b2', 'b3', 'b4', 'b5', 'b6', 'bb7']]"
      ]
     },
     "execution_count": 21,
     "metadata": {},
     "output_type": "execute_result"
    }
   ],
   "source": [
    "modes = Modes(scale)\n",
    "modes.intervals"
   ]
  },
  {
   "cell_type": "code",
   "execution_count": 22,
   "metadata": {},
   "outputs": [
    {
     "data": {
      "text/plain": [
       "[['Cm7M', 'Dm7(b5)', 'Eb7M(#5)', 'Fm7', 'G7', 'Ab7M', 'Bm(b5)'],\n",
       " ['Cm7(b5)', 'Db7M(#5)', 'Ebm7', 'F7', 'Gb7M', 'Am(b5)', 'Bbm7M'],\n",
       " ['C7M(#5)', 'Dm7', 'E7', 'F7M', 'G#m(b5)', 'Abbm7M', 'Bbm7(b5)'],\n",
       " ['Cm7', 'D7', 'Eb7M', 'F#m(b5)', 'Gbbm7M', 'Abm7(b5)', 'Bb7M(#5)'],\n",
       " ['C7', 'Db7M', 'Em(b5)', 'Fm7M', 'Gm7(b5)', 'Ab7M(#5)', 'Bbm7'],\n",
       " ['C7M', 'D#m(b5)', 'Ebbm7M', 'F#m7(b5)', 'Gbb7M(#5)', 'Abm7', 'Bb7'],\n",
       " ['Cm(b5)', 'Dbm7M', 'Ebm7(b5)', 'Fb7M(#5)', 'Gbm7', 'Ab7', 'Bb7M']]"
      ]
     },
     "execution_count": 22,
     "metadata": {},
     "output_type": "execute_result"
    }
   ],
   "source": [
    "modes.chords"
   ]
  },
  {
   "cell_type": "code",
   "execution_count": 19,
   "metadata": {},
   "outputs": [],
   "source": [
    "# Print modes.chords list of lists as a unique string for copy paste into google sheets\n",
    "import pandas as pd\n",
    "df = pd.DataFrame(modes.chords)"
   ]
  },
  {
   "cell_type": "code",
   "execution_count": 15,
   "metadata": {},
   "outputs": [
    {
     "data": {
      "text/html": [
       "<div>\n",
       "<style scoped>\n",
       "    .dataframe tbody tr th:only-of-type {\n",
       "        vertical-align: middle;\n",
       "    }\n",
       "\n",
       "    .dataframe tbody tr th {\n",
       "        vertical-align: top;\n",
       "    }\n",
       "\n",
       "    .dataframe thead th {\n",
       "        text-align: right;\n",
       "    }\n",
       "</style>\n",
       "<table border=\"1\" class=\"dataframe\">\n",
       "  <thead>\n",
       "    <tr style=\"text-align: right;\">\n",
       "      <th></th>\n",
       "      <th>0</th>\n",
       "      <th>1</th>\n",
       "      <th>2</th>\n",
       "      <th>3</th>\n",
       "      <th>4</th>\n",
       "      <th>5</th>\n",
       "      <th>6</th>\n",
       "    </tr>\n",
       "  </thead>\n",
       "  <tbody>\n",
       "    <tr>\n",
       "      <th>0</th>\n",
       "      <td>Cm7M</td>\n",
       "      <td>Dm7(b5)</td>\n",
       "      <td>Eb7M(#5)</td>\n",
       "      <td>Fm7</td>\n",
       "      <td>G7</td>\n",
       "      <td>Ab7M</td>\n",
       "      <td>Bm(b5)</td>\n",
       "    </tr>\n",
       "    <tr>\n",
       "      <th>1</th>\n",
       "      <td>Cm7(b5)</td>\n",
       "      <td>Db7M(#5)</td>\n",
       "      <td>Ebm7</td>\n",
       "      <td>F7</td>\n",
       "      <td>Gb7M</td>\n",
       "      <td>Am(b5)</td>\n",
       "      <td>Bbm7M</td>\n",
       "    </tr>\n",
       "    <tr>\n",
       "      <th>2</th>\n",
       "      <td>C7M(#5)</td>\n",
       "      <td>Dm7</td>\n",
       "      <td>E7</td>\n",
       "      <td>F7M</td>\n",
       "      <td>G#m(b5)</td>\n",
       "      <td>Abbm7M</td>\n",
       "      <td>Bbm7(b5)</td>\n",
       "    </tr>\n",
       "    <tr>\n",
       "      <th>3</th>\n",
       "      <td>Cm7</td>\n",
       "      <td>D7</td>\n",
       "      <td>Eb7M</td>\n",
       "      <td>F#m(b5)</td>\n",
       "      <td>Gbbm7M</td>\n",
       "      <td>Abm7(b5)</td>\n",
       "      <td>Bb7M(#5)</td>\n",
       "    </tr>\n",
       "    <tr>\n",
       "      <th>4</th>\n",
       "      <td>C7</td>\n",
       "      <td>Db7M</td>\n",
       "      <td>Em(b5)</td>\n",
       "      <td>Fm7M</td>\n",
       "      <td>Gm7(b5)</td>\n",
       "      <td>Ab7M(#5)</td>\n",
       "      <td>Bbm7</td>\n",
       "    </tr>\n",
       "    <tr>\n",
       "      <th>5</th>\n",
       "      <td>C7M</td>\n",
       "      <td>D#m(b5)</td>\n",
       "      <td>Ebbm7M</td>\n",
       "      <td>F#m7(b5)</td>\n",
       "      <td>Gbb7M(#5)</td>\n",
       "      <td>Abm7</td>\n",
       "      <td>Bb7</td>\n",
       "    </tr>\n",
       "    <tr>\n",
       "      <th>6</th>\n",
       "      <td>Cm(b5)</td>\n",
       "      <td>Dbm7M</td>\n",
       "      <td>Ebm7(b5)</td>\n",
       "      <td>Fb7M(#5)</td>\n",
       "      <td>Gbm7</td>\n",
       "      <td>Ab7</td>\n",
       "      <td>Bb7M</td>\n",
       "    </tr>\n",
       "  </tbody>\n",
       "</table>\n",
       "</div>"
      ],
      "text/plain": [
       "         0         1         2         3          4         5         6\n",
       "0     Cm7M   Dm7(b5)  Eb7M(#5)       Fm7         G7      Ab7M    Bm(b5)\n",
       "1  Cm7(b5)  Db7M(#5)      Ebm7        F7       Gb7M    Am(b5)     Bbm7M\n",
       "2  C7M(#5)       Dm7        E7       F7M    G#m(b5)    Abbm7M  Bbm7(b5)\n",
       "3      Cm7        D7      Eb7M   F#m(b5)     Gbbm7M  Abm7(b5)  Bb7M(#5)\n",
       "4       C7      Db7M    Em(b5)      Fm7M    Gm7(b5)  Ab7M(#5)      Bbm7\n",
       "5      C7M   D#m(b5)    Ebbm7M  F#m7(b5)  Gbb7M(#5)      Abm7       Bb7\n",
       "6   Cm(b5)     Dbm7M  Ebm7(b5)  Fb7M(#5)       Gbm7       Ab7      Bb7M"
      ]
     },
     "execution_count": 15,
     "metadata": {},
     "output_type": "execute_result"
    }
   ],
   "source": [
    "df"
   ]
  },
  {
   "cell_type": "code",
   "execution_count": null,
   "metadata": {},
   "outputs": [],
   "source": []
  }
 ],
 "metadata": {
  "kernelspec": {
   "display_name": "sandbox-ezJulrnj",
   "language": "python",
   "name": "python3"
  },
  "language_info": {
   "codemirror_mode": {
    "name": "ipython",
    "version": 3
   },
   "file_extension": ".py",
   "mimetype": "text/x-python",
   "name": "python",
   "nbconvert_exporter": "python",
   "pygments_lexer": "ipython3",
   "version": "3.11.9"
  }
 },
 "nbformat": 4,
 "nbformat_minor": 2
}
